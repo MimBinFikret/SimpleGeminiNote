{
  "cells": [
    {
      "cell_type": "code",
      "execution_count": null,
      "metadata": {
        "id": "J6Pd9SFJ1yVi"
      },
      "outputs": [],
      "source": [
        "!pip install -q -U google-generativeai"
      ]
    },
    {
      "cell_type": "code",
      "execution_count": null,
      "metadata": {
        "id": "HTiaTu6O1LRC"
      },
      "outputs": [],
      "source": [
        "import google.generativeai as genai\n",
        "\n",
        "genai.configure(api_key=\"GEMINI_API_KEY_HERE\")"
      ]
    },
    {
      "cell_type": "code",
      "execution_count": null,
      "metadata": {
        "id": "s-JqXcDe2hZ_"
      },
      "outputs": [],
      "source": [
        "model = genai.GenerativeModel('gemini-pro')"
      ]
    },
    {
      "cell_type": "code",
      "execution_count": null,
      "metadata": {
        "id": "j51mcrLD4Y2W",
        "outputId": "30dbc44c-d7cc-48b3-ad72-49f2691b50f3",
        "colab": {
          "base_uri": "https://localhost:8080/",
          "height": 783
        }
      },
      "outputs": [
        {
          "output_type": "stream",
          "name": "stdout",
          "text": [
            "**Yapay Zeka (AI)**, makinelerin insan zekasını taklit etmesini sağlayan bir bilgisayar bilimleri alanıdır. AI sistemleri, insan benzeri görevleri gerçekleştirmek için tasarlanmıştır, örneğin:\n",
            "\n",
            "**AI Nasıl Çalışır:**\n",
            "\n",
            "Bir AI sistemi tipik olarak şu bileşenleri içerir:\n",
            "\n",
            "**1. Veri:** AI sistemleri, öğrenmek ve görevleri gerçekleştirmek için büyük miktarlarda verilerle eğitilir. Bu veriler, metin, görüntü, ses veya başka veri türlerinden gelebilir.\n",
            "\n",
            "**2. Algoritmalar:** AI sistemleri, verilerden kalıplar ve ilişkiler öğrenmek için algoritmalar kullanır. Bu algoritmalar, makine öğrenimi, derin öğrenme veya diğer AI tekniklerine dayanabilir.\n",
            "\n",
            "**3. Model:** Öğrenme süreci, AI sisteminin gerçek dünyadaki görevleri yerine getirebilmesini sağlayan bir model oluşturur. Model, verilerdeki kalıpları ve ilişkileri temsil eden bir matematiksel yapıdır.\n",
            "\n",
            "**4. Çıktı:** Model, verilen yeni girişlere dayalı olarak kararlar verir veya tahminlerde bulunur. Örneğin, bir AI görüntü tanıma sistemi, giriş olarak bir görüntü alabilir ve görüntünün bir kediyi gösterip göstermediğini belirleyebilir.\n",
            "\n",
            "**AI İşlevleri:**\n",
            "\n",
            "AI sistemleri, aşağıdakiler de dahil olmak üzere çeşitli işlevleri yerine getirebilir:\n",
            "\n",
            "* **Bilgi edinme:** Verilerden kalıplar ve bilgiler çıkarır.\n",
            "* **Tahmin yapma:** Gelecekteki olayları tahmin eder.\n",
            "* **Öneri üretme:** Kullanıcılar için kişiselleştirilmiş öneriler sağlar.\n",
            "* **Karar verme:** Verilere dayalı kararlar verir.\n",
            "* **Dil işleme:** İnsan dilini anlar ve üretir.\n",
            "* **Görüntü tanıma:** Görüntülerdeki nesneleri ve kişileri tanımlar.\n",
            "\n",
            "**AI Türleri:**\n",
            "\n",
            "AI sistemleri, yeteneklerine ve karmaşıklıklarına göre farklı türlere ayrılabilir:\n",
            "\n",
            "* **Dar AI:** Belirli bir görev için tasarlanmıştır, örneğin satranç oynamak veya spam e-postaları filtrelemek.\n",
            "* **Genel AI:** İnsan benzeri zeka gerektiren çok çeşitli görevleri gerçekleştirebilir.\n",
            "* **Süper AI:** Genel AI'dan daha zeki ve insan zekasını aşar.\n",
            "\n",
            "**AI Uygulamaları:**\n",
            "\n",
            "AI, aşağıdakiler de dahil olmak üzere çok çeşitli alanlarda kullanılmaktadır:\n",
            "\n",
            "* Sağlık hizmetleri\n",
            "* Finans\n",
            "* Perakende\n",
            "* Ulaşım\n",
            "* İmalat\n",
            "* Müşteri hizmetleri\n"
          ]
        }
      ],
      "source": [
        "response = model.generate_content(\n",
        "\"\"\"\n",
        "\n",
        "Söyle bana bir AI nasıl çalışır?\n",
        "\n",
        "\"\"\"\n",
        ")\n",
        "print(response.text)"
      ]
    }
  ],
  "metadata": {
    "colab": {
      "toc_visible": true,
      "provenance": []
    },
    "kernelspec": {
      "display_name": "Python 3",
      "name": "python3"
    }
  },
  "nbformat": 4,
  "nbformat_minor": 0
}